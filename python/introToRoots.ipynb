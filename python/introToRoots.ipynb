{
 "cells": [
  {
   "cell_type": "code",
   "execution_count": null,
   "id": "931676b3",
   "metadata": {},
   "outputs": [],
   "source": [
    "import numpy as np\n",
    "import time\n",
    "import matplotlib.pyplot as plt\n",
    "\n",
    "start = time.perf_counter()\n",
    "\n",
    "pixelsPerSide = 10\n",
    "pixelWidth = 4 /pixelsPerSide\n",
    "errorEps = pixelWidth\n",
    "\n",
    "a = np.linspace(-2,2,pixelsPerSide)\n",
    "b = np.linspace(-2,2,pixelsPerSide)\n",
    "for a in range(-2,2,pixelWidth):\n",
    "    for b in range(-2,2,pixelWidth):\n",
    "\n",
    "end = time.perf_counter()\n",
    "print(\"Total runtime:\", (end-start))"
   ]
  },
  {
   "cell_type": "code",
   "execution_count": null,
   "id": "d0309ecb",
   "metadata": {},
   "outputs": [],
   "source": [
    "### LIST OF POLYNOMIALS TO BE MANIPULATED\n",
    "\n",
    "def f0(x):\n",
    "    x**3 + x**2 + x**1 + x**0"
   ]
  },
  {
   "cell_type": "code",
   "execution_count": null,
   "id": "d3b2995a",
   "metadata": {},
   "outputs": [],
   "source": [
    "import numpy as np\n",
    "from numpy.polynomial.polynomial import polyval\n",
    "import time\n",
    "\n",
    "x = complex(1,.2)\n",
    "\n",
    "%timeit polyval(x,[1,2,3,4])"
   ]
  },
  {
   "cell_type": "code",
   "execution_count": null,
   "id": "5a350c42",
   "metadata": {},
   "outputs": [],
   "source": [
    "import itertools\n",
    "print (type(list(itertools.product([1,-1], repeat=3))[0]))"
   ]
  },
  {
   "cell_type": "code",
   "execution_count": null,
   "id": "10d40c4f",
   "metadata": {},
   "outputs": [],
   "source": [
    "import numpy as np\n",
    "from numpy.polynomial.polynomial import polyval\n",
    "import time\n",
    "import itertools\n",
    "\n",
    "start = time.perf_counter()\n",
    "\n",
    "gap = 10000\n",
    "gapF = 4.0 / gap\n",
    "polys = (list(itertools.product([1,-1], repeat=4)))\n",
    "count = 0\n",
    "# display(polys)\n",
    "for x in range(-gap,gap):\n",
    "    for f in range(16):\n",
    "        val = polyval(x *gapF,polys[f])\n",
    "        if (abs(val) < .0001):\n",
    "            count += 1\n",
    "            print(\"Func #{}\".format(f), polys[f], \"    Val:\", val, \"    Root:\", x *gapF)\n",
    "\n",
    "end = time.perf_counter()\n",
    "print(\"Number of roots found:\", count)\n",
    "print(\"Total runtime:\", (end-start))"
   ]
  },
  {
   "cell_type": "code",
   "execution_count": null,
   "id": "3d3d198e",
   "metadata": {},
   "outputs": [],
   "source": [
    "import mpsolve\n",
    "\n",
    "def roots_of_unity(n):\n",
    "    \"\"\"Compute the n-th roots of unity, i.e., the solutions\n",
    "    of the equation x^n = 1\"\"\"\n",
    "\n",
    "    ctx = mpsolve.Context()\n",
    "    poly = mpsolve.MonomialPoly(ctx, n)\n",
    "\n",
    "    poly.set_coefficient(n, 1)\n",
    "    poly.set_coefficient(0, -1)\n",
    "\n",
    "    return ctx.solve(poly)\n",
    "\n",
    "if __name__ == \"__main__\":\n",
    "\n",
    "    # Get the roots of unity in a fairly simple case\n",
    "    roots = roots_of_unity (4)\n",
    "    print(\"The 4-th roots of unity are: %s\" % map (str, roots))\n",
    "\n",
    "    # Do something more fancy (even if still with the roots\n",
    "    # of unity). \n",
    "    roots = roots_of_unity (1024)\n",
    "\n",
    "    # You can easily plot the roots using matplotlib, if\n",
    "    # it's available. We use non interactive plotting here\n",
    "    # just to make sure that the user can see the plot. \n",
    "    from matplotlib import pyplot as plot\n",
    "\n",
    "    plot.ioff ()\n",
    "    plot.plot (map (lambda x : x.real, roots),\n",
    "               map (lambda x : x.imag, roots))\n",
    "    plot.show ()"
   ]
  }
 ],
 "metadata": {
  "kernelspec": {
   "display_name": "Python 3 (ipykernel)",
   "language": "python",
   "name": "python3"
  },
  "language_info": {
   "codemirror_mode": {
    "name": "ipython",
    "version": 3
   },
   "file_extension": ".py",
   "mimetype": "text/x-python",
   "name": "python",
   "nbconvert_exporter": "python",
   "pygments_lexer": "ipython3",
   "version": "3.9.7"
  }
 },
 "nbformat": 4,
 "nbformat_minor": 5
}
